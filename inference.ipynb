{
 "cells": [
  {
   "cell_type": "markdown",
   "metadata": {},
   "source": [
    "# ARQMath Inference\n",
    "\n",
    "NOTE: If you use Google Colab you need to enable GPU/TPU support first!\n",
    "\n",
    "---\n",
    "\n",
    "To run the model on other data, download it first by create a new cell with the following content (adjust URLs):\n",
    "\n",
    "```bash\n",
    "!wget -O ./data/my_data.csv http://mydomain.com/my_data.csv\n",
    "```\n",
    "\n",
    "Next, adjust the path below:"
   ]
  },
  {
   "cell_type": "code",
   "execution_count": 34,
   "metadata": {},
   "outputs": [],
   "source": [
    "input_path = './data/qa-pair.csv'"
   ]
  },
  {
   "cell_type": "markdown",
   "metadata": {},
   "source": [
    "Run the remaining cells:"
   ]
  },
  {
   "cell_type": "code",
   "execution_count": 7,
   "metadata": {},
   "outputs": [],
   "source": [
    "import pandas as pd\n",
    "import numpy as np\n",
    "import os\n",
    "import torch\n",
    "import logging\n",
    "from transformers import TrainingArguments\n",
    "from transformers.trainer import Trainer, set_seed\n",
    "from transformers.modeling_auto import AutoModelForSequenceClassification, AutoConfig\n",
    "from transformers.tokenization_auto import AutoTokenizer\n",
    "from torch.utils.data import Dataset, DataLoader\n",
    "from dataset import ARQMathDataset\n",
    "\n",
    "seed = 0\n",
    "set_seed(seed)\n",
    "logging.basicConfig(\n",
    "    format=\"%(asctime)s - %(levelname)s - %(name)s -   %(message)s\",\n",
    "    datefmt=\"%Y-%m-%d %H:%M:%S\",\n",
    "    level=logging.INFO,\n",
    ")\n",
    "logger = logging.getLogger(__name__)"
   ]
  },
  {
   "cell_type": "code",
   "execution_count": 2,
   "metadata": {},
   "outputs": [
    {
     "name": "stdout",
     "output_type": "stream",
     "text": [
      "Thu Jul  2 21:45:31 2020       \n",
      "+-----------------------------------------------------------------------------+\n",
      "| NVIDIA-SMI 440.33.01    Driver Version: 440.33.01    CUDA Version: 10.2     |\n",
      "|-------------------------------+----------------------+----------------------+\n",
      "| GPU  Name        Persistence-M| Bus-Id        Disp.A | Volatile Uncorr. ECC |\n",
      "| Fan  Temp  Perf  Pwr:Usage/Cap|         Memory-Usage | GPU-Util  Compute M. |\n",
      "|===============================+======================+======================|\n",
      "|   0  GeForce GTX 108...  On   | 00000000:04:00.0 Off |                  N/A |\n",
      "| 23%   23C    P8     7W / 250W |   3679MiB / 11178MiB |      0%      Default |\n",
      "+-------------------------------+----------------------+----------------------+\n",
      "|   1  GeForce GTX 108...  On   | 00000000:06:00.0 Off |                  N/A |\n",
      "| 28%   23C    P8     9W / 250W |  10977MiB / 11178MiB |      0%      Default |\n",
      "+-------------------------------+----------------------+----------------------+\n",
      "|   2  GeForce GTX 108...  On   | 00000000:07:00.0 Off |                  N/A |\n",
      "| 22%   30C    P8     8W / 250W |   9445MiB / 11178MiB |      0%      Default |\n",
      "+-------------------------------+----------------------+----------------------+\n",
      "|   3  GeForce GTX 108...  On   | 00000000:08:00.0 Off |                  N/A |\n",
      "| 22%   27C    P8     8W / 250W |   9445MiB / 11178MiB |      0%      Default |\n",
      "+-------------------------------+----------------------+----------------------+\n",
      "|   4  GeForce GTX 108...  On   | 00000000:0C:00.0 Off |                  N/A |\n",
      "| 28%   27C    P8     8W / 250W |   9445MiB / 11178MiB |      0%      Default |\n",
      "+-------------------------------+----------------------+----------------------+\n",
      "|   5  GeForce GTX 108...  On   | 00000000:0D:00.0 Off |                  N/A |\n",
      "| 23%   22C    P8     7W / 250W |      1MiB / 11178MiB |      0%      Default |\n",
      "+-------------------------------+----------------------+----------------------+\n",
      "|   6  GeForce GTX 108...  On   | 00000000:0E:00.0 Off |                  N/A |\n",
      "| 23%   21C    P8     8W / 250W |      1MiB / 11178MiB |      0%      Default |\n",
      "+-------------------------------+----------------------+----------------------+\n",
      "|   7  GeForce GTX 108...  On   | 00000000:0F:00.0 Off |                  N/A |\n",
      "| 23%   23C    P8     9W / 250W |      1MiB / 11178MiB |      0%      Default |\n",
      "+-------------------------------+----------------------+----------------------+\n",
      "                                                                               \n",
      "+-----------------------------------------------------------------------------+\n",
      "| Processes:                                                       GPU Memory |\n",
      "|  GPU       PID   Type   Process name                             Usage      |\n",
      "|=============================================================================|\n",
      "|    0     17351      C   python                                      3667MiB |\n",
      "|    1     10142      C   ...orff/miniconda2/envs/arqmath/bin/python 10965MiB |\n",
      "|    2     10142      C   ...orff/miniconda2/envs/arqmath/bin/python  9433MiB |\n",
      "|    3     10142      C   ...orff/miniconda2/envs/arqmath/bin/python  9433MiB |\n",
      "|    4     10142      C   ...orff/miniconda2/envs/arqmath/bin/python  9433MiB |\n",
      "+-----------------------------------------------------------------------------+\n"
     ]
    }
   ],
   "source": [
    "!nvidia-smi"
   ]
  },
  {
   "cell_type": "code",
   "execution_count": 3,
   "metadata": {},
   "outputs": [],
   "source": [
    "cuda_visible_devices = '0' # check with nvidia-smi\n",
    "model_name = 'malteos/arqmath-bert-base-cased'\n",
    "model_cache_dir = './models/'\n",
    "\n",
    "if os.path.exists(model_cache_dir + model_name):\n",
    "    logger.info('Using model from cache')\n",
    "    model_name_or_path = model_cache_dir + model_name\n",
    "else:\n",
    "    model_name_or_path = model_name"
   ]
  },
  {
   "cell_type": "code",
   "execution_count": 4,
   "metadata": {},
   "outputs": [],
   "source": [
    "os.environ['CUDA_VISIBLE_DEVICES'] = cuda_visible_devices"
   ]
  },
  {
   "cell_type": "code",
   "execution_count": 5,
   "metadata": {},
   "outputs": [
    {
     "name": "stderr",
     "output_type": "stream",
     "text": [
      "2020-07-02 21:45:53 - INFO - filelock -   Lock 140446372121424 acquired on /home/mostendorff/.cache/torch/transformers/c9aee388d6d61cf37b89f0d56a2458f0758d62b6acb6d3cadc5d8f045d2aeb38.52a95ff4a37d7f42e0b049db1ed2acc4c18a0cc0c72d32b8a07b05a92e88e93c.lock\n",
      "2020-07-02 21:45:53 - INFO - transformers.file_utils -   https://s3.amazonaws.com/models.huggingface.co/bert/malteos/arqmath-bert-base-cased/config.json not found in cache or force_download set to True, downloading to /home/mostendorff/.cache/torch/transformers/tmp325l5ej9\n"
     ]
    },
    {
     "data": {
      "application/vnd.jupyter.widget-view+json": {
       "model_id": "2c3dd57e229c4d909f6cfde5d02cfba2",
       "version_major": 2,
       "version_minor": 0
      },
      "text/plain": [
       "HBox(children=(FloatProgress(value=0.0, description='Downloading', max=482.0, style=ProgressStyle(description_…"
      ]
     },
     "metadata": {},
     "output_type": "display_data"
    },
    {
     "name": "stderr",
     "output_type": "stream",
     "text": [
      "2020-07-02 21:45:54 - INFO - transformers.file_utils -   storing https://s3.amazonaws.com/models.huggingface.co/bert/malteos/arqmath-bert-base-cased/config.json in cache at /home/mostendorff/.cache/torch/transformers/c9aee388d6d61cf37b89f0d56a2458f0758d62b6acb6d3cadc5d8f045d2aeb38.52a95ff4a37d7f42e0b049db1ed2acc4c18a0cc0c72d32b8a07b05a92e88e93c\n",
      "2020-07-02 21:45:54 - INFO - transformers.file_utils -   creating metadata file for /home/mostendorff/.cache/torch/transformers/c9aee388d6d61cf37b89f0d56a2458f0758d62b6acb6d3cadc5d8f045d2aeb38.52a95ff4a37d7f42e0b049db1ed2acc4c18a0cc0c72d32b8a07b05a92e88e93c\n",
      "2020-07-02 21:45:54 - INFO - filelock -   Lock 140446372121424 released on /home/mostendorff/.cache/torch/transformers/c9aee388d6d61cf37b89f0d56a2458f0758d62b6acb6d3cadc5d8f045d2aeb38.52a95ff4a37d7f42e0b049db1ed2acc4c18a0cc0c72d32b8a07b05a92e88e93c.lock\n",
      "2020-07-02 21:45:54 - INFO - transformers.configuration_utils -   loading configuration file https://s3.amazonaws.com/models.huggingface.co/bert/malteos/arqmath-bert-base-cased/config.json from cache at /home/mostendorff/.cache/torch/transformers/c9aee388d6d61cf37b89f0d56a2458f0758d62b6acb6d3cadc5d8f045d2aeb38.52a95ff4a37d7f42e0b049db1ed2acc4c18a0cc0c72d32b8a07b05a92e88e93c\n",
      "2020-07-02 21:45:54 - INFO - transformers.configuration_utils -   Model config BertConfig {\n",
      "  \"architectures\": [\n",
      "    \"BertForSequenceClassification\"\n",
      "  ],\n",
      "  \"attention_probs_dropout_prob\": 0.1,\n",
      "  \"gradient_checkpointing\": false,\n",
      "  \"hidden_act\": \"gelu\",\n",
      "  \"hidden_dropout_prob\": 0.1,\n",
      "  \"hidden_size\": 768,\n",
      "  \"initializer_range\": 0.02,\n",
      "  \"intermediate_size\": 3072,\n",
      "  \"layer_norm_eps\": 1e-12,\n",
      "  \"max_position_embeddings\": 512,\n",
      "  \"model_type\": \"bert\",\n",
      "  \"num_attention_heads\": 12,\n",
      "  \"num_hidden_layers\": 12,\n",
      "  \"pad_token_id\": 0,\n",
      "  \"type_vocab_size\": 2,\n",
      "  \"vocab_size\": 28996\n",
      "}\n",
      "\n"
     ]
    },
    {
     "name": "stdout",
     "output_type": "stream",
     "text": [
      "\n"
     ]
    },
    {
     "name": "stderr",
     "output_type": "stream",
     "text": [
      "2020-07-02 21:45:56 - INFO - transformers.configuration_utils -   loading configuration file https://s3.amazonaws.com/models.huggingface.co/bert/malteos/arqmath-bert-base-cased/config.json from cache at /home/mostendorff/.cache/torch/transformers/c9aee388d6d61cf37b89f0d56a2458f0758d62b6acb6d3cadc5d8f045d2aeb38.52a95ff4a37d7f42e0b049db1ed2acc4c18a0cc0c72d32b8a07b05a92e88e93c\n",
      "2020-07-02 21:45:56 - INFO - transformers.configuration_utils -   Model config BertConfig {\n",
      "  \"architectures\": [\n",
      "    \"BertForSequenceClassification\"\n",
      "  ],\n",
      "  \"attention_probs_dropout_prob\": 0.1,\n",
      "  \"gradient_checkpointing\": false,\n",
      "  \"hidden_act\": \"gelu\",\n",
      "  \"hidden_dropout_prob\": 0.1,\n",
      "  \"hidden_size\": 768,\n",
      "  \"initializer_range\": 0.02,\n",
      "  \"intermediate_size\": 3072,\n",
      "  \"layer_norm_eps\": 1e-12,\n",
      "  \"max_position_embeddings\": 512,\n",
      "  \"model_type\": \"bert\",\n",
      "  \"num_attention_heads\": 12,\n",
      "  \"num_hidden_layers\": 12,\n",
      "  \"pad_token_id\": 0,\n",
      "  \"type_vocab_size\": 2,\n",
      "  \"vocab_size\": 28996\n",
      "}\n",
      "\n",
      "2020-07-02 21:45:56 - INFO - transformers.tokenization_utils_base -   Model name 'malteos/arqmath-bert-base-cased' not found in model shortcut name list (bert-base-uncased, bert-large-uncased, bert-base-cased, bert-large-cased, bert-base-multilingual-uncased, bert-base-multilingual-cased, bert-base-chinese, bert-base-german-cased, bert-large-uncased-whole-word-masking, bert-large-cased-whole-word-masking, bert-large-uncased-whole-word-masking-finetuned-squad, bert-large-cased-whole-word-masking-finetuned-squad, bert-base-cased-finetuned-mrpc, bert-base-german-dbmdz-cased, bert-base-german-dbmdz-uncased, TurkuNLP/bert-base-finnish-cased-v1, TurkuNLP/bert-base-finnish-uncased-v1, wietsedv/bert-base-dutch-cased). Assuming 'malteos/arqmath-bert-base-cased' is a path, a model identifier, or url to a directory containing tokenizer files.\n",
      "2020-07-02 21:45:57 - INFO - filelock -   Lock 140445729604752 acquired on /home/mostendorff/.cache/torch/transformers/ed147be021a8a008d531a91dd824d168683b60715b689bf5331918de7d5fd279.e13dbb970cb325137104fb2e5f36fe865f27746c6b526f6352861b1980eb80b1.lock\n",
      "2020-07-02 21:45:57 - INFO - transformers.file_utils -   https://s3.amazonaws.com/models.huggingface.co/bert/malteos/arqmath-bert-base-cased/vocab.txt not found in cache or force_download set to True, downloading to /home/mostendorff/.cache/torch/transformers/tmpdko0bed5\n"
     ]
    },
    {
     "data": {
      "application/vnd.jupyter.widget-view+json": {
       "model_id": "ae78e0a09bb9480b877f8dc2a827fe20",
       "version_major": 2,
       "version_minor": 0
      },
      "text/plain": [
       "HBox(children=(FloatProgress(value=0.0, description='Downloading', max=213450.0, style=ProgressStyle(descripti…"
      ]
     },
     "metadata": {},
     "output_type": "display_data"
    },
    {
     "name": "stderr",
     "output_type": "stream",
     "text": [
      "2020-07-02 21:45:58 - INFO - transformers.file_utils -   storing https://s3.amazonaws.com/models.huggingface.co/bert/malteos/arqmath-bert-base-cased/vocab.txt in cache at /home/mostendorff/.cache/torch/transformers/ed147be021a8a008d531a91dd824d168683b60715b689bf5331918de7d5fd279.e13dbb970cb325137104fb2e5f36fe865f27746c6b526f6352861b1980eb80b1\n",
      "2020-07-02 21:45:58 - INFO - transformers.file_utils -   creating metadata file for /home/mostendorff/.cache/torch/transformers/ed147be021a8a008d531a91dd824d168683b60715b689bf5331918de7d5fd279.e13dbb970cb325137104fb2e5f36fe865f27746c6b526f6352861b1980eb80b1\n",
      "2020-07-02 21:45:58 - INFO - filelock -   Lock 140445729604752 released on /home/mostendorff/.cache/torch/transformers/ed147be021a8a008d531a91dd824d168683b60715b689bf5331918de7d5fd279.e13dbb970cb325137104fb2e5f36fe865f27746c6b526f6352861b1980eb80b1.lock\n"
     ]
    },
    {
     "name": "stdout",
     "output_type": "stream",
     "text": [
      "\n"
     ]
    },
    {
     "name": "stderr",
     "output_type": "stream",
     "text": [
      "2020-07-02 21:45:59 - INFO - filelock -   Lock 140445700782544 acquired on /home/mostendorff/.cache/torch/transformers/12ec75fba2ef9cba3f5f1b3c97acfe2d133cfb533099287da9b508a229baeae7.275045728fbf41c11d3dae08b8742c054377e18d92cc7b72b6351152a99b64e4.lock\n",
      "2020-07-02 21:45:59 - INFO - transformers.file_utils -   https://s3.amazonaws.com/models.huggingface.co/bert/malteos/arqmath-bert-base-cased/special_tokens_map.json not found in cache or force_download set to True, downloading to /home/mostendorff/.cache/torch/transformers/tmpoa63kfv0\n"
     ]
    },
    {
     "data": {
      "application/vnd.jupyter.widget-view+json": {
       "model_id": "ddeb5be496594024b8d650fcd9109ab2",
       "version_major": 2,
       "version_minor": 0
      },
      "text/plain": [
       "HBox(children=(FloatProgress(value=0.0, description='Downloading', max=112.0, style=ProgressStyle(description_…"
      ]
     },
     "metadata": {},
     "output_type": "display_data"
    },
    {
     "name": "stderr",
     "output_type": "stream",
     "text": [
      "2020-07-02 21:45:59 - INFO - transformers.file_utils -   storing https://s3.amazonaws.com/models.huggingface.co/bert/malteos/arqmath-bert-base-cased/special_tokens_map.json in cache at /home/mostendorff/.cache/torch/transformers/12ec75fba2ef9cba3f5f1b3c97acfe2d133cfb533099287da9b508a229baeae7.275045728fbf41c11d3dae08b8742c054377e18d92cc7b72b6351152a99b64e4\n",
      "2020-07-02 21:45:59 - INFO - transformers.file_utils -   creating metadata file for /home/mostendorff/.cache/torch/transformers/12ec75fba2ef9cba3f5f1b3c97acfe2d133cfb533099287da9b508a229baeae7.275045728fbf41c11d3dae08b8742c054377e18d92cc7b72b6351152a99b64e4\n",
      "2020-07-02 21:45:59 - INFO - filelock -   Lock 140445700782544 released on /home/mostendorff/.cache/torch/transformers/12ec75fba2ef9cba3f5f1b3c97acfe2d133cfb533099287da9b508a229baeae7.275045728fbf41c11d3dae08b8742c054377e18d92cc7b72b6351152a99b64e4.lock\n"
     ]
    },
    {
     "name": "stdout",
     "output_type": "stream",
     "text": [
      "\n"
     ]
    },
    {
     "name": "stderr",
     "output_type": "stream",
     "text": [
      "2020-07-02 21:45:59 - INFO - filelock -   Lock 140445700783312 acquired on /home/mostendorff/.cache/torch/transformers/fc9c4dcb89f7b906ea952df0d5f31b97b288332be9226bdcb90e81f989e47600.73a933aa27255ce576c445dcdb8155b6edb6e4c43cceb14b4b81f9e699a818b7.lock\n",
      "2020-07-02 21:45:59 - INFO - transformers.file_utils -   https://s3.amazonaws.com/models.huggingface.co/bert/malteos/arqmath-bert-base-cased/tokenizer_config.json not found in cache or force_download set to True, downloading to /home/mostendorff/.cache/torch/transformers/tmp0sgqj2kq\n"
     ]
    },
    {
     "data": {
      "application/vnd.jupyter.widget-view+json": {
       "model_id": "5d72bc46418e407ebbf802ec42ed168e",
       "version_major": 2,
       "version_minor": 0
      },
      "text/plain": [
       "HBox(children=(FloatProgress(value=0.0, description='Downloading', max=62.0, style=ProgressStyle(description_w…"
      ]
     },
     "metadata": {},
     "output_type": "display_data"
    },
    {
     "name": "stderr",
     "output_type": "stream",
     "text": [
      "2020-07-02 21:46:00 - INFO - transformers.file_utils -   storing https://s3.amazonaws.com/models.huggingface.co/bert/malteos/arqmath-bert-base-cased/tokenizer_config.json in cache at /home/mostendorff/.cache/torch/transformers/fc9c4dcb89f7b906ea952df0d5f31b97b288332be9226bdcb90e81f989e47600.73a933aa27255ce576c445dcdb8155b6edb6e4c43cceb14b4b81f9e699a818b7\n",
      "2020-07-02 21:46:00 - INFO - transformers.file_utils -   creating metadata file for /home/mostendorff/.cache/torch/transformers/fc9c4dcb89f7b906ea952df0d5f31b97b288332be9226bdcb90e81f989e47600.73a933aa27255ce576c445dcdb8155b6edb6e4c43cceb14b4b81f9e699a818b7\n",
      "2020-07-02 21:46:00 - INFO - filelock -   Lock 140445700783312 released on /home/mostendorff/.cache/torch/transformers/fc9c4dcb89f7b906ea952df0d5f31b97b288332be9226bdcb90e81f989e47600.73a933aa27255ce576c445dcdb8155b6edb6e4c43cceb14b4b81f9e699a818b7.lock\n"
     ]
    },
    {
     "name": "stdout",
     "output_type": "stream",
     "text": [
      "\n"
     ]
    },
    {
     "name": "stderr",
     "output_type": "stream",
     "text": [
      "2020-07-02 21:46:00 - INFO - transformers.tokenization_utils_base -   loading file https://s3.amazonaws.com/models.huggingface.co/bert/malteos/arqmath-bert-base-cased/vocab.txt from cache at /home/mostendorff/.cache/torch/transformers/ed147be021a8a008d531a91dd824d168683b60715b689bf5331918de7d5fd279.e13dbb970cb325137104fb2e5f36fe865f27746c6b526f6352861b1980eb80b1\n",
      "2020-07-02 21:46:00 - INFO - transformers.tokenization_utils_base -   loading file https://s3.amazonaws.com/models.huggingface.co/bert/malteos/arqmath-bert-base-cased/added_tokens.json from cache at None\n",
      "2020-07-02 21:46:00 - INFO - transformers.tokenization_utils_base -   loading file https://s3.amazonaws.com/models.huggingface.co/bert/malteos/arqmath-bert-base-cased/special_tokens_map.json from cache at /home/mostendorff/.cache/torch/transformers/12ec75fba2ef9cba3f5f1b3c97acfe2d133cfb533099287da9b508a229baeae7.275045728fbf41c11d3dae08b8742c054377e18d92cc7b72b6351152a99b64e4\n",
      "2020-07-02 21:46:00 - INFO - transformers.tokenization_utils_base -   loading file https://s3.amazonaws.com/models.huggingface.co/bert/malteos/arqmath-bert-base-cased/tokenizer_config.json from cache at /home/mostendorff/.cache/torch/transformers/fc9c4dcb89f7b906ea952df0d5f31b97b288332be9226bdcb90e81f989e47600.73a933aa27255ce576c445dcdb8155b6edb6e4c43cceb14b4b81f9e699a818b7\n",
      "2020-07-02 21:46:00 - INFO - transformers.tokenization_utils_base -   loading file https://s3.amazonaws.com/models.huggingface.co/bert/malteos/arqmath-bert-base-cased/tokenizer.json from cache at None\n"
     ]
    }
   ],
   "source": [
    "config = AutoConfig.from_pretrained(model_name_or_path, num_labels=2) \n",
    "model = AutoModelForSequenceClassification.from_config(config)\n",
    "tokenizer = AutoTokenizer.from_pretrained(model_name_or_path, use_fast=True)"
   ]
  },
  {
   "cell_type": "code",
   "execution_count": 9,
   "metadata": {},
   "outputs": [
    {
     "name": "stderr",
     "output_type": "stream",
     "text": [
      "2020-07-02 21:49:25 - INFO - transformers.training_args -   PyTorch: setting up devices\n",
      "2020-07-02 21:49:28 - INFO - transformers.trainer -   You are instantiating a Trainer but W&B is not installed. To use wandb logging, run `pip install wandb; wandb login` see https://docs.wandb.com/huggingface.\n"
     ]
    }
   ],
   "source": [
    "training_args = TrainingArguments(\n",
    "    output_dir='./results',\n",
    "    per_device_eval_batch_size=16,   # batch size for evaluation\n",
    "    seed=seed,\n",
    ")\n",
    "\n",
    "trainer = Trainer(\n",
    "    model=model,\n",
    "    args=training_args,\n",
    ")"
   ]
  },
  {
   "cell_type": "code",
   "execution_count": 15,
   "metadata": {},
   "outputs": [
    {
     "data": {
      "text/html": [
       "<div>\n",
       "<style scoped>\n",
       "    .dataframe tbody tr th:only-of-type {\n",
       "        vertical-align: middle;\n",
       "    }\n",
       "\n",
       "    .dataframe tbody tr th {\n",
       "        vertical-align: top;\n",
       "    }\n",
       "\n",
       "    .dataframe thead th {\n",
       "        text-align: right;\n",
       "    }\n",
       "</style>\n",
       "<table border=\"1\" class=\"dataframe\">\n",
       "  <thead>\n",
       "    <tr style=\"text-align: right;\">\n",
       "      <th></th>\n",
       "      <th>qID</th>\n",
       "      <th>aID</th>\n",
       "      <th>q</th>\n",
       "      <th>a</th>\n",
       "      <th>rel</th>\n",
       "    </tr>\n",
       "  </thead>\n",
       "  <tbody>\n",
       "    <tr>\n",
       "      <th>0</th>\n",
       "      <td>112</td>\n",
       "      <td>115</td>\n",
       "      <td>What are gradients and how would I use them?\\n...</td>\n",
       "      <td>The ∇ (pronounced \"del\") is an operator, more ...</td>\n",
       "      <td>1</td>\n",
       "    </tr>\n",
       "    <tr>\n",
       "      <th>1</th>\n",
       "      <td>118</td>\n",
       "      <td>125</td>\n",
       "      <td>How would you describe calculus in simple term...</td>\n",
       "      <td>There came a time in mathematics when people e...</td>\n",
       "      <td>1</td>\n",
       "    </tr>\n",
       "    <tr>\n",
       "      <th>2</th>\n",
       "      <td>118</td>\n",
       "      <td>148</td>\n",
       "      <td>How would you describe calculus in simple term...</td>\n",
       "      <td>One of the greatest achievements of human civi...</td>\n",
       "      <td>0</td>\n",
       "    </tr>\n",
       "    <tr>\n",
       "      <th>3</th>\n",
       "      <td>118</td>\n",
       "      <td>517</td>\n",
       "      <td>How would you describe calculus in simple term...</td>\n",
       "      <td>Calculus is basically a way of calculating rat...</td>\n",
       "      <td>0</td>\n",
       "    </tr>\n",
       "    <tr>\n",
       "      <th>4</th>\n",
       "      <td>118</td>\n",
       "      <td>127</td>\n",
       "      <td>How would you describe calculus in simple term...</td>\n",
       "      <td>Calculus is a field which deals with two seemi...</td>\n",
       "      <td>0</td>\n",
       "    </tr>\n",
       "  </tbody>\n",
       "</table>\n",
       "</div>"
      ],
      "text/plain": [
       "   qID  aID                                                  q  \\\n",
       "0  112  115  What are gradients and how would I use them?\\n...   \n",
       "1  118  125  How would you describe calculus in simple term...   \n",
       "2  118  148  How would you describe calculus in simple term...   \n",
       "3  118  517  How would you describe calculus in simple term...   \n",
       "4  118  127  How would you describe calculus in simple term...   \n",
       "\n",
       "                                                   a  rel  \n",
       "0  The ∇ (pronounced \"del\") is an operator, more ...    1  \n",
       "1  There came a time in mathematics when people e...    1  \n",
       "2  One of the greatest achievements of human civi...    0  \n",
       "3  Calculus is basically a way of calculating rat...    0  \n",
       "4  Calculus is a field which deals with two seemi...    0  "
      ]
     },
     "execution_count": 15,
     "metadata": {},
     "output_type": "execute_result"
    }
   ],
   "source": [
    "# Load CSV from disk\n",
    "df = pd.read_csv(input_path, index_col=False)\n",
    "df['rel'] = df['rel'].astype(int)\n",
    "df.head()"
   ]
  },
  {
   "cell_type": "code",
   "execution_count": 27,
   "metadata": {},
   "outputs": [],
   "source": [
    "df = df.sample(n=500).reset_index()"
   ]
  },
  {
   "cell_type": "code",
   "execution_count": 28,
   "metadata": {},
   "outputs": [],
   "source": [
    "ds = ARQMathDataset(df, tokenizer, 512)"
   ]
  },
  {
   "cell_type": "code",
   "execution_count": 30,
   "metadata": {},
   "outputs": [
    {
     "name": "stderr",
     "output_type": "stream",
     "text": [
      "2020-07-02 21:54:48 - INFO - transformers.trainer -   ***** Running Prediction *****\n",
      "2020-07-02 21:54:48 - INFO - transformers.trainer -     Num examples = 500\n",
      "2020-07-02 21:54:48 - INFO - transformers.trainer -     Batch size = 16\n"
     ]
    },
    {
     "data": {
      "application/vnd.jupyter.widget-view+json": {
       "model_id": "90240699994e42de9a1f3c547d2a0355",
       "version_major": 2,
       "version_minor": 0
      },
      "text/plain": [
       "HBox(children=(FloatProgress(value=0.0, description='Prediction', max=32.0, style=ProgressStyle(description_wi…"
      ]
     },
     "metadata": {},
     "output_type": "display_data"
    },
    {
     "name": "stdout",
     "output_type": "stream",
     "text": [
      "\n"
     ]
    }
   ],
   "source": [
    "prediction_output = trainer.predict(ds)"
   ]
  },
  {
   "cell_type": "code",
   "execution_count": 32,
   "metadata": {},
   "outputs": [
    {
     "data": {
      "text/html": [
       "<div>\n",
       "<style scoped>\n",
       "    .dataframe tbody tr th:only-of-type {\n",
       "        vertical-align: middle;\n",
       "    }\n",
       "\n",
       "    .dataframe tbody tr th {\n",
       "        vertical-align: top;\n",
       "    }\n",
       "\n",
       "    .dataframe thead th {\n",
       "        text-align: right;\n",
       "    }\n",
       "</style>\n",
       "<table border=\"1\" class=\"dataframe\">\n",
       "  <thead>\n",
       "    <tr style=\"text-align: right;\">\n",
       "      <th></th>\n",
       "      <th>index</th>\n",
       "      <th>qID</th>\n",
       "      <th>aID</th>\n",
       "      <th>q</th>\n",
       "      <th>a</th>\n",
       "      <th>rel</th>\n",
       "      <th>predicted_label_ids</th>\n",
       "      <th>predicted_0</th>\n",
       "      <th>predicted_1</th>\n",
       "    </tr>\n",
       "  </thead>\n",
       "  <tbody>\n",
       "    <tr>\n",
       "      <th>0</th>\n",
       "      <td>64437</td>\n",
       "      <td>1187021</td>\n",
       "      <td>1187044</td>\n",
       "      <td>Relevance and implications of concavity?\\n\\nJu...</td>\n",
       "      <td>Concavity/convexity is a great source of usefu...</td>\n",
       "      <td>0</td>\n",
       "      <td>0</td>\n",
       "      <td>0.055390</td>\n",
       "      <td>-0.102732</td>\n",
       "    </tr>\n",
       "    <tr>\n",
       "      <th>1</th>\n",
       "      <td>125914</td>\n",
       "      <td>2416180</td>\n",
       "      <td>2416226</td>\n",
       "      <td>About using the lagrange multiplier.\\n\\nToday ...</td>\n",
       "      <td>We will use the quadratic equation approach to...</td>\n",
       "      <td>0</td>\n",
       "      <td>0</td>\n",
       "      <td>0.127301</td>\n",
       "      <td>-0.067571</td>\n",
       "    </tr>\n",
       "    <tr>\n",
       "      <th>2</th>\n",
       "      <td>123140</td>\n",
       "      <td>2356000</td>\n",
       "      <td>2356004</td>\n",
       "      <td>Exam 9768 of subject  GRE Q1.\\nThis is the que...</td>\n",
       "      <td>HINT : let G be a primitive of g(t) = log(t) t...</td>\n",
       "      <td>0</td>\n",
       "      <td>0</td>\n",
       "      <td>0.077603</td>\n",
       "      <td>-0.064002</td>\n",
       "    </tr>\n",
       "    <tr>\n",
       "      <th>3</th>\n",
       "      <td>59714</td>\n",
       "      <td>1099141</td>\n",
       "      <td>1099145</td>\n",
       "      <td>if f(x) if differentiable and continuous, prov...</td>\n",
       "      <td>Hint: apply the Lagrange theorem to the functi...</td>\n",
       "      <td>1</td>\n",
       "      <td>0</td>\n",
       "      <td>0.300498</td>\n",
       "      <td>0.020297</td>\n",
       "    </tr>\n",
       "    <tr>\n",
       "      <th>4</th>\n",
       "      <td>7207</td>\n",
       "      <td>127689</td>\n",
       "      <td>1963775</td>\n",
       "      <td>Why does an infinite limit not exist?\\n\\nI rea...</td>\n",
       "      <td>Note that working in the affinely extended rea...</td>\n",
       "      <td>0</td>\n",
       "      <td>0</td>\n",
       "      <td>0.211263</td>\n",
       "      <td>-0.054389</td>\n",
       "    </tr>\n",
       "  </tbody>\n",
       "</table>\n",
       "</div>"
      ],
      "text/plain": [
       "    index      qID      aID  \\\n",
       "0   64437  1187021  1187044   \n",
       "1  125914  2416180  2416226   \n",
       "2  123140  2356000  2356004   \n",
       "3   59714  1099141  1099145   \n",
       "4    7207   127689  1963775   \n",
       "\n",
       "                                                   q  \\\n",
       "0  Relevance and implications of concavity?\\n\\nJu...   \n",
       "1  About using the lagrange multiplier.\\n\\nToday ...   \n",
       "2  Exam 9768 of subject  GRE Q1.\\nThis is the que...   \n",
       "3  if f(x) if differentiable and continuous, prov...   \n",
       "4  Why does an infinite limit not exist?\\n\\nI rea...   \n",
       "\n",
       "                                                   a  rel  \\\n",
       "0  Concavity/convexity is a great source of usefu...    0   \n",
       "1  We will use the quadratic equation approach to...    0   \n",
       "2  HINT : let G be a primitive of g(t) = log(t) t...    0   \n",
       "3  Hint: apply the Lagrange theorem to the functi...    1   \n",
       "4  Note that working in the affinely extended rea...    0   \n",
       "\n",
       "   predicted_label_ids  predicted_0  predicted_1  \n",
       "0                    0     0.055390    -0.102732  \n",
       "1                    0     0.127301    -0.067571  \n",
       "2                    0     0.077603    -0.064002  \n",
       "3                    0     0.300498     0.020297  \n",
       "4                    0     0.211263    -0.054389  "
      ]
     },
     "execution_count": 32,
     "metadata": {},
     "output_type": "execute_result"
    }
   ],
   "source": [
    "pred_df = df\n",
    "pred_df['predicted_label_ids'] = prediction_output.predictions.argmax(-1)\n",
    "pred_df['predicted_0'] = prediction_output.predictions[:,0]\n",
    "pred_df['predicted_1'] = prediction_output.predictions[:,1]       \n",
    "pred_df.head()"
   ]
  },
  {
   "cell_type": "code",
   "execution_count": 33,
   "metadata": {},
   "outputs": [],
   "source": [
    "pred_df.to_csv('./results/inference_predictions.csv')"
   ]
  },
  {
   "cell_type": "code",
   "execution_count": null,
   "metadata": {},
   "outputs": [],
   "source": [
    "# Download (only on Google Colab)\n",
    "from google.colab import files\n",
    "files.download('./results/inference_predictions.csv')"
   ]
  }
 ],
 "metadata": {
  "kernelspec": {
   "display_name": "Python [conda env:arqmath] *",
   "language": "python",
   "name": "conda-env-arqmath-py"
  },
  "language_info": {
   "codemirror_mode": {
    "name": "ipython",
    "version": 3
   },
   "file_extension": ".py",
   "mimetype": "text/x-python",
   "name": "python",
   "nbconvert_exporter": "python",
   "pygments_lexer": "ipython3",
   "version": "3.7.7"
  }
 },
 "nbformat": 4,
 "nbformat_minor": 4
}
